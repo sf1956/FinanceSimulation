{
 "cells": [
  {
   "cell_type": "code",
   "execution_count": 1,
   "metadata": {},
   "outputs": [],
   "source": [
    "import pandas as pd\n",
    "import datetime as dt\n",
    "from wallet import Wallet\n",
    "from option import Option\n",
    "from stock import Stock\n",
    "from strategy import Strategy\n",
    "from data_gen import get_option_data\n",
    "from strategy_runner import StrategyRunner\n",
    "from logger import logger"
   ]
  },
  {
   "cell_type": "code",
   "execution_count": 2,
   "metadata": {},
   "outputs": [
    {
     "name": "stderr",
     "output_type": "stream",
     "text": [
      "\u001b[31m[INFO]\u001b[0m \u001b[32mTrading date:2015-01-02 00:00:00\u001b[0m @ 18:25:21\n"
     ]
    }
   ],
   "source": [
    "strategy_runner = StrategyRunner()"
   ]
  },
  {
   "cell_type": "code",
   "execution_count": 3,
   "metadata": {},
   "outputs": [
    {
     "name": "stdout",
     "output_type": "stream",
     "text": [
      "amount: -6.97 \n",
      "call_options_buy: \n",
      "<option: qqq:\n",
      " strike:104.0\n",
      " expiration:2016-01-15 00:00:00\n",
      " (option at purchase:7.1,\n",
      " stock at purchase:103.06)> \n",
      "call_options_sell: \n",
      "<option: qqq:\n",
      " strike:108.5\n",
      " expiration:2015-01-30 00:00:00\n",
      " (option at purchase:0.13,\n",
      " stock at purchase:103.06)> \n",
      "stocks: <>\n"
     ]
    }
   ],
   "source": [
    "print(strategy_runner.strategy.wallet)"
   ]
  },
  {
   "cell_type": "code",
   "execution_count": 4,
   "metadata": {},
   "outputs": [
    {
     "name": "stderr",
     "output_type": "stream",
     "text": [
      "\u001b[31m[INFO]\u001b[0m \u001b[32moption: qqq:\n",
      " strike:108.5\n",
      " expiration:2015-01-30 00:00:00\n",
      " (option at purchase:0.05,\n",
      " stock at purchase:101.38)\u001b[0m @ 18:25:22\n",
      "\u001b[31m[INFO]\u001b[0m \u001b[32mrolling option\u001b[0m @ 18:25:22\n",
      "\u001b[31m[INFO]\u001b[0m \u001b[32mTrading date:2015-01-03 00:00:00\u001b[0m @ 18:25:22\n"
     ]
    }
   ],
   "source": [
    "strategy_runner.next_trading_day()"
   ]
  },
  {
   "cell_type": "code",
   "execution_count": 5,
   "metadata": {},
   "outputs": [
    {
     "name": "stderr",
     "output_type": "stream",
     "text": [
      "\u001b[31m[INFO]\u001b[0m \u001b[32moption: qqq:\n",
      " strike:108.5\n",
      " expiration:2015-01-30 00:00:00\n",
      " (option at purchase:0.05,\n",
      " stock at purchase:101.38)\u001b[0m @ 18:25:23\n",
      "\u001b[31m[INFO]\u001b[0m \u001b[32mnot rolling option\u001b[0m @ 18:25:23\n",
      "\u001b[31m[INFO]\u001b[0m \u001b[32mTrading date:2015-01-04 00:00:00\u001b[0m @ 18:25:23\n"
     ]
    }
   ],
   "source": [
    "strategy_runner.next_trading_day()"
   ]
  },
  {
   "cell_type": "code",
   "execution_count": 6,
   "metadata": {},
   "outputs": [
    {
     "name": "stderr",
     "output_type": "stream",
     "text": [
      "\u001b[31m[INFO]\u001b[0m \u001b[32moption: qqq:\n",
      " strike:108.5\n",
      " expiration:2015-01-30 00:00:00\n",
      " (option at purchase:0.05,\n",
      " stock at purchase:101.38)\u001b[0m @ 18:25:26\n",
      "\u001b[31m[INFO]\u001b[0m \u001b[32mnot rolling option\u001b[0m @ 18:25:26\n",
      "\u001b[31m[INFO]\u001b[0m \u001b[32mTrading date:2015-01-05 00:00:00\u001b[0m @ 18:25:26\n",
      "\u001b[31m[INFO]\u001b[0m \u001b[32moption: qqq:\n",
      " strike:108.5\n",
      " expiration:2015-01-30 00:00:00\n",
      " (option at purchase:0.04,\n",
      " stock at purchase:100.08)\u001b[0m @ 18:25:26\n",
      "\u001b[31m[INFO]\u001b[0m \u001b[32mnot rolling option\u001b[0m @ 18:25:26\n",
      "\u001b[31m[INFO]\u001b[0m \u001b[32mTrading date:2015-01-06 00:00:00\u001b[0m @ 18:25:26\n",
      "\u001b[31m[INFO]\u001b[0m \u001b[32moption: qqq:\n",
      " strike:108.5\n",
      " expiration:2015-02-06 00:00:00\n",
      " (option at purchase:0.075,\n",
      " stock at purchase:101.32)\u001b[0m @ 18:25:26\n",
      "\u001b[31m[INFO]\u001b[0m \u001b[32mnot rolling option\u001b[0m @ 18:25:26\n",
      "\u001b[31m[INFO]\u001b[0m \u001b[32mTrading date:2015-01-07 00:00:00\u001b[0m @ 18:25:26\n",
      "\u001b[31m[INFO]\u001b[0m \u001b[32moption: qqq:\n",
      " strike:108.5\n",
      " expiration:2015-02-06 00:00:00\n",
      " (option at purchase:0.17,\n",
      " stock at purchase:103.31)\u001b[0m @ 18:25:26\n",
      "\u001b[31m[INFO]\u001b[0m \u001b[32mnot rolling option\u001b[0m @ 18:25:26\n",
      "\u001b[31m[INFO]\u001b[0m \u001b[32mTrading date:2015-01-08 00:00:00\u001b[0m @ 18:25:26\n",
      "\u001b[31m[INFO]\u001b[0m \u001b[32moption: qqq:\n",
      " strike:108.5\n",
      " expiration:2015-02-06 00:00:00\n",
      " (option at purchase:0.17,\n",
      " stock at purchase:102.66)\u001b[0m @ 18:25:26\n",
      "\u001b[31m[INFO]\u001b[0m \u001b[32mnot rolling option\u001b[0m @ 18:25:26\n",
      "\u001b[31m[INFO]\u001b[0m \u001b[32mTrading date:2015-01-09 00:00:00\u001b[0m @ 18:25:26\n",
      "\u001b[31m[INFO]\u001b[0m \u001b[32moption: qqq:\n",
      " strike:108.5\n",
      " expiration:2015-02-06 00:00:00\n",
      " (option at purchase:0.060000000000000005,\n",
      " stock at purchase:101.59)\u001b[0m @ 18:25:26\n",
      "\u001b[31m[INFO]\u001b[0m \u001b[32mnot rolling option\u001b[0m @ 18:25:26\n",
      "\u001b[31m[INFO]\u001b[0m \u001b[32mTrading date:2015-01-10 00:00:00\u001b[0m @ 18:25:26\n",
      "\u001b[31m[INFO]\u001b[0m \u001b[32moption: qqq:\n",
      " strike:108.5\n",
      " expiration:2015-02-06 00:00:00\n",
      " (option at purchase:0.060000000000000005,\n",
      " stock at purchase:101.59)\u001b[0m @ 18:25:26\n",
      "\u001b[31m[INFO]\u001b[0m \u001b[32mnot rolling option\u001b[0m @ 18:25:26\n",
      "\u001b[31m[INFO]\u001b[0m \u001b[32mTrading date:2015-01-11 00:00:00\u001b[0m @ 18:25:26\n",
      "\u001b[31m[INFO]\u001b[0m \u001b[32moption: qqq:\n",
      " strike:108.5\n",
      " expiration:2015-02-06 00:00:00\n",
      " (option at purchase:0.060000000000000005,\n",
      " stock at purchase:101.59)\u001b[0m @ 18:25:26\n",
      "\u001b[31m[INFO]\u001b[0m \u001b[32mnot rolling option\u001b[0m @ 18:25:26\n",
      "\u001b[31m[INFO]\u001b[0m \u001b[32mTrading date:2015-01-12 00:00:00\u001b[0m @ 18:25:26\n",
      "\u001b[31m[INFO]\u001b[0m \u001b[32moption: qqq:\n",
      " strike:108.5\n",
      " expiration:2015-02-06 00:00:00\n",
      " (option at purchase:0.065,\n",
      " stock at purchase:101.44)\u001b[0m @ 18:25:26\n",
      "\u001b[31m[INFO]\u001b[0m \u001b[32mnot rolling option\u001b[0m @ 18:25:26\n",
      "\u001b[31m[INFO]\u001b[0m \u001b[32mTrading date:2015-01-13 00:00:00\u001b[0m @ 18:25:26\n",
      "\u001b[31m[INFO]\u001b[0m \u001b[32moption: qqq:\n",
      " strike:108.5\n",
      " expiration:2015-02-13 00:00:00\n",
      " (option at purchase:0.11,\n",
      " stock at purchase:100.99)\u001b[0m @ 18:25:26\n",
      "\u001b[31m[INFO]\u001b[0m \u001b[32mnot rolling option\u001b[0m @ 18:25:26\n",
      "\u001b[31m[INFO]\u001b[0m \u001b[32mTrading date:2015-01-14 00:00:00\u001b[0m @ 18:25:26\n",
      "\u001b[31m[INFO]\u001b[0m \u001b[32moption: qqq:\n",
      " strike:108.5\n",
      " expiration:2015-02-13 00:00:00\n",
      " (option at purchase:0.075,\n",
      " stock at purchase:99.61)\u001b[0m @ 18:25:26\n",
      "\u001b[31m[INFO]\u001b[0m \u001b[32mrolling option\u001b[0m @ 18:25:26\n",
      "\u001b[31m[INFO]\u001b[0m \u001b[32mTrading date:2015-01-15 00:00:00\u001b[0m @ 18:25:26\n",
      "\u001b[31m[INFO]\u001b[0m \u001b[32moption: qqq:\n",
      " strike:108.5\n",
      " expiration:2015-02-13 00:00:00\n",
      " (option at purchase:0.075,\n",
      " stock at purchase:100.87)\u001b[0m @ 18:25:26\n",
      "\u001b[31m[INFO]\u001b[0m \u001b[32mnot rolling option\u001b[0m @ 18:25:26\n",
      "\u001b[31m[INFO]\u001b[0m \u001b[32mTrading date:2015-01-16 00:00:00\u001b[0m @ 18:25:26\n",
      "\u001b[31m[INFO]\u001b[0m \u001b[32moption: qqq:\n",
      " strike:108.5\n",
      " expiration:2015-02-13 00:00:00\n",
      " (option at purchase:0.075,\n",
      " stock at purchase:101.62)\u001b[0m @ 18:25:26\n",
      "\u001b[31m[INFO]\u001b[0m \u001b[32mnot rolling option\u001b[0m @ 18:25:26\n",
      "\u001b[31m[INFO]\u001b[0m \u001b[32mTrading date:2015-01-17 00:00:00\u001b[0m @ 18:25:26\n",
      "\u001b[31m[INFO]\u001b[0m \u001b[32moption: qqq:\n",
      " strike:108.5\n",
      " expiration:2015-02-13 00:00:00\n",
      " (option at purchase:0.075,\n",
      " stock at purchase:101.62)\u001b[0m @ 18:25:26\n",
      "\u001b[31m[INFO]\u001b[0m \u001b[32mnot rolling option\u001b[0m @ 18:25:26\n",
      "\u001b[31m[INFO]\u001b[0m \u001b[32mTrading date:2015-01-18 00:00:00\u001b[0m @ 18:25:26\n",
      "\u001b[31m[INFO]\u001b[0m \u001b[32moption: qqq:\n",
      " strike:108.5\n",
      " expiration:2015-02-13 00:00:00\n",
      " (option at purchase:0.075,\n",
      " stock at purchase:101.62)\u001b[0m @ 18:25:26\n",
      "\u001b[31m[INFO]\u001b[0m \u001b[32mnot rolling option\u001b[0m @ 18:25:26\n",
      "\u001b[31m[INFO]\u001b[0m \u001b[32mTrading date:2015-01-19 00:00:00\u001b[0m @ 18:25:26\n",
      "\u001b[31m[INFO]\u001b[0m \u001b[32moption: qqq:\n",
      " strike:108.5\n",
      " expiration:2015-02-13 00:00:00\n",
      " (option at purchase:0.075,\n",
      " stock at purchase:101.62)\u001b[0m @ 18:25:26\n",
      "\u001b[31m[INFO]\u001b[0m \u001b[32mnot rolling option\u001b[0m @ 18:25:26\n",
      "\u001b[31m[INFO]\u001b[0m \u001b[32mTrading date:2015-01-20 00:00:00\u001b[0m @ 18:25:26\n"
     ]
    },
    {
     "ename": "ValueError",
     "evalue": "The truth value of a Series is ambiguous. Use a.empty, a.bool(), a.item(), a.any() or a.all().",
     "output_type": "error",
     "traceback": [
      "\u001b[0;31m---------------------------------------------------------------------------\u001b[0m",
      "\u001b[0;31mValueError\u001b[0m                                Traceback (most recent call last)",
      "\u001b[0;32m/var/folders/gg/zgq6dyfn2z1gss1dj3s601440000gn/T/ipykernel_6802/173462372.py\u001b[0m in \u001b[0;36m?\u001b[0;34m()\u001b[0m\n\u001b[1;32m      1\u001b[0m \u001b[0;32mfor\u001b[0m \u001b[0m_\u001b[0m \u001b[0;32min\u001b[0m \u001b[0mrange\u001b[0m\u001b[0;34m(\u001b[0m\u001b[0;36m20\u001b[0m\u001b[0;34m)\u001b[0m\u001b[0;34m:\u001b[0m\u001b[0;34m\u001b[0m\u001b[0;34m\u001b[0m\u001b[0m\n\u001b[0;32m----> 2\u001b[0;31m     \u001b[0mstrategy_runner\u001b[0m\u001b[0;34m.\u001b[0m\u001b[0mnext_trading_day\u001b[0m\u001b[0;34m(\u001b[0m\u001b[0;34m)\u001b[0m\u001b[0;34m\u001b[0m\u001b[0;34m\u001b[0m\u001b[0m\n\u001b[0m",
      "\u001b[0;32m~/Code/FinanceSimulation/strategy_runner.py\u001b[0m in \u001b[0;36m?\u001b[0;34m(self)\u001b[0m\n\u001b[1;32m     44\u001b[0m         \u001b[0mself\u001b[0m\u001b[0;34m.\u001b[0m\u001b[0mtrading_date\u001b[0m \u001b[0;34m=\u001b[0m \u001b[0mself\u001b[0m\u001b[0;34m.\u001b[0m\u001b[0mtrading_date\u001b[0m \u001b[0;34m+\u001b[0m \u001b[0mdt\u001b[0m\u001b[0;34m.\u001b[0m\u001b[0mtimedelta\u001b[0m\u001b[0;34m(\u001b[0m\u001b[0mdays\u001b[0m\u001b[0;34m=\u001b[0m\u001b[0;36m1\u001b[0m\u001b[0;34m)\u001b[0m\u001b[0;34m\u001b[0m\u001b[0;34m\u001b[0m\u001b[0m\n\u001b[1;32m     45\u001b[0m         \u001b[0;32mif\u001b[0m \u001b[0mself\u001b[0m\u001b[0;34m.\u001b[0m\u001b[0mtrading_date\u001b[0m \u001b[0;34m>\u001b[0m \u001b[0mself\u001b[0m\u001b[0;34m.\u001b[0m\u001b[0mend_date\u001b[0m\u001b[0;34m:\u001b[0m\u001b[0;34m\u001b[0m\u001b[0;34m\u001b[0m\u001b[0m\n\u001b[1;32m     46\u001b[0m             \u001b[0mlogger\u001b[0m\u001b[0;34m.\u001b[0m\u001b[0minfo\u001b[0m\u001b[0;34m(\u001b[0m\u001b[0;34m\"Passed last availible trading day\"\u001b[0m\u001b[0;34m)\u001b[0m\u001b[0;34m\u001b[0m\u001b[0;34m\u001b[0m\u001b[0m\n\u001b[1;32m     47\u001b[0m             \u001b[0;32mreturn\u001b[0m\u001b[0;34m\u001b[0m\u001b[0;34m\u001b[0m\u001b[0m\n\u001b[0;32m---> 48\u001b[0;31m         \u001b[0mself\u001b[0m\u001b[0;34m.\u001b[0m\u001b[0mstrategy\u001b[0m\u001b[0;34m.\u001b[0m\u001b[0mdaily_roll\u001b[0m\u001b[0;34m(\u001b[0m\u001b[0mself\u001b[0m\u001b[0;34m.\u001b[0m\u001b[0md_df\u001b[0m\u001b[0;34m,\u001b[0m \u001b[0mself\u001b[0m\u001b[0;34m.\u001b[0m\u001b[0mtrading_date\u001b[0m\u001b[0;34m)\u001b[0m\u001b[0;34m\u001b[0m\u001b[0;34m\u001b[0m\u001b[0m\n\u001b[0m\u001b[1;32m     49\u001b[0m         \u001b[0mlogger\u001b[0m\u001b[0;34m.\u001b[0m\u001b[0minfo\u001b[0m\u001b[0;34m(\u001b[0m\u001b[0;34mf\"Trading date:{self.trading_date}\"\u001b[0m\u001b[0;34m)\u001b[0m\u001b[0;34m\u001b[0m\u001b[0;34m\u001b[0m\u001b[0m\n\u001b[1;32m     50\u001b[0m         \u001b[0mlogger\u001b[0m\u001b[0;34m.\u001b[0m\u001b[0mdebug\u001b[0m\u001b[0;34m(\u001b[0m\u001b[0;34mf\"{self.strategy.wallet}\"\u001b[0m\u001b[0;34m)\u001b[0m\u001b[0;34m\u001b[0m\u001b[0;34m\u001b[0m\u001b[0m\n",
      "\u001b[0;32m~/Code/FinanceSimulation/strategy.py\u001b[0m in \u001b[0;36m?\u001b[0;34m(self, df, target_trade_date, ind)\u001b[0m\n\u001b[1;32m     57\u001b[0m         \u001b[0morig_option_price_at_purchase\u001b[0m \u001b[0;34m=\u001b[0m \u001b[0morig_option\u001b[0m\u001b[0;34m.\u001b[0m\u001b[0moption_price_at_purchase\u001b[0m\u001b[0;34m\u001b[0m\u001b[0;34m\u001b[0m\u001b[0m\n\u001b[1;32m     58\u001b[0m         \u001b[0morig_option_expiration_date\u001b[0m \u001b[0;34m=\u001b[0m \u001b[0morig_option\u001b[0m\u001b[0;34m.\u001b[0m\u001b[0mexpiration_date\u001b[0m\u001b[0;34m\u001b[0m\u001b[0;34m\u001b[0m\u001b[0m\n\u001b[1;32m     59\u001b[0m         \u001b[0morig_option_strike_price\u001b[0m \u001b[0;34m=\u001b[0m \u001b[0morig_option\u001b[0m\u001b[0;34m.\u001b[0m\u001b[0mstrike_price\u001b[0m\u001b[0;34m\u001b[0m\u001b[0;34m\u001b[0m\u001b[0m\n\u001b[1;32m     60\u001b[0m \u001b[0;34m\u001b[0m\u001b[0m\n\u001b[0;32m---> 61\u001b[0;31m         new_option = Option.from_data_series(\n\u001b[0m\u001b[1;32m     62\u001b[0m             filter_option_df(\n\u001b[1;32m     63\u001b[0m                 \u001b[0mdf\u001b[0m\u001b[0;34m=\u001b[0m\u001b[0mdf\u001b[0m\u001b[0;34m,\u001b[0m\u001b[0;34m\u001b[0m\u001b[0;34m\u001b[0m\u001b[0m\n\u001b[1;32m     64\u001b[0m                 \u001b[0mtarget_trade_date\u001b[0m\u001b[0;34m=\u001b[0m\u001b[0mtarget_trade_date\u001b[0m\u001b[0;34m,\u001b[0m\u001b[0;34m\u001b[0m\u001b[0;34m\u001b[0m\u001b[0m\n",
      "\u001b[0;32m~/Code/FinanceSimulation/option.py\u001b[0m in \u001b[0;36m?\u001b[0;34m(cls, series, symbol)\u001b[0m\n\u001b[1;32m     23\u001b[0m             \u001b[0msymbol\u001b[0m\u001b[0;34m=\u001b[0m\u001b[0msymbol\u001b[0m\u001b[0;34m,\u001b[0m\u001b[0;34m\u001b[0m\u001b[0;34m\u001b[0m\u001b[0m\n\u001b[1;32m     24\u001b[0m             \u001b[0mstrike_price\u001b[0m\u001b[0;34m=\u001b[0m\u001b[0mseries\u001b[0m\u001b[0;34m.\u001b[0m\u001b[0mSTRIKE\u001b[0m\u001b[0;34m,\u001b[0m\u001b[0;34m\u001b[0m\u001b[0;34m\u001b[0m\u001b[0m\n\u001b[1;32m     25\u001b[0m             \u001b[0mstock_price_at_purchase\u001b[0m\u001b[0;34m=\u001b[0m\u001b[0mseries\u001b[0m\u001b[0;34m.\u001b[0m\u001b[0mUNDERLYING_LAST\u001b[0m\u001b[0;34m,\u001b[0m\u001b[0;34m\u001b[0m\u001b[0;34m\u001b[0m\u001b[0m\n\u001b[1;32m     26\u001b[0m             \u001b[0moption_price_at_purchase\u001b[0m\u001b[0;34m=\u001b[0m\u001b[0mseries\u001b[0m\u001b[0;34m.\u001b[0m\u001b[0mC_LAST\u001b[0m\u001b[0;34m\u001b[0m\u001b[0;34m\u001b[0m\u001b[0m\n\u001b[0;32m---> 27\u001b[0;31m             \u001b[0;32mif\u001b[0m \u001b[0mseries\u001b[0m\u001b[0;34m.\u001b[0m\u001b[0mC_LAST\u001b[0m \u001b[0;34m>\u001b[0m \u001b[0;36m0\u001b[0m\u001b[0;34m\u001b[0m\u001b[0;34m\u001b[0m\u001b[0m\n\u001b[0m\u001b[1;32m     28\u001b[0m             \u001b[0;32melse\u001b[0m \u001b[0;34m(\u001b[0m\u001b[0;34m(\u001b[0m\u001b[0mseries\u001b[0m\u001b[0;34m.\u001b[0m\u001b[0mC_ASK\u001b[0m \u001b[0;34m+\u001b[0m \u001b[0mseries\u001b[0m\u001b[0;34m.\u001b[0m\u001b[0mC_BID\u001b[0m\u001b[0;34m)\u001b[0m \u001b[0;34m/\u001b[0m \u001b[0;36m2\u001b[0m\u001b[0;34m)\u001b[0m\u001b[0;34m,\u001b[0m  \u001b[0;31m# series.C_ASK\u001b[0m\u001b[0;34m\u001b[0m\u001b[0;34m\u001b[0m\u001b[0m\n\u001b[1;32m     29\u001b[0m             \u001b[0mexpiration_date\u001b[0m\u001b[0;34m=\u001b[0m\u001b[0mseries\u001b[0m\u001b[0;34m.\u001b[0m\u001b[0mEXPIRE_DATE\u001b[0m\u001b[0;34m,\u001b[0m\u001b[0;34m\u001b[0m\u001b[0;34m\u001b[0m\u001b[0m\n\u001b[1;32m     30\u001b[0m             \u001b[0;31m# expiration_date=pd.Timestamp(dt.date.fromisoformat(series.EXPIRE_DATE)),\u001b[0m\u001b[0;34m\u001b[0m\u001b[0;34m\u001b[0m\u001b[0m\n",
      "\u001b[0;32m~/Code/FinanceSimulation/.venv/lib/python3.11/site-packages/pandas/core/generic.py\u001b[0m in \u001b[0;36m?\u001b[0;34m(self)\u001b[0m\n\u001b[1;32m   1464\u001b[0m     \u001b[0;34m@\u001b[0m\u001b[0mfinal\u001b[0m\u001b[0;34m\u001b[0m\u001b[0;34m\u001b[0m\u001b[0m\n\u001b[1;32m   1465\u001b[0m     \u001b[0;32mdef\u001b[0m \u001b[0m__nonzero__\u001b[0m\u001b[0;34m(\u001b[0m\u001b[0mself\u001b[0m\u001b[0;34m)\u001b[0m \u001b[0;34m->\u001b[0m \u001b[0mNoReturn\u001b[0m\u001b[0;34m:\u001b[0m\u001b[0;34m\u001b[0m\u001b[0;34m\u001b[0m\u001b[0m\n\u001b[0;32m-> 1466\u001b[0;31m         raise ValueError(\n\u001b[0m\u001b[1;32m   1467\u001b[0m             \u001b[0;34mf\"The truth value of a {type(self).__name__} is ambiguous. \"\u001b[0m\u001b[0;34m\u001b[0m\u001b[0;34m\u001b[0m\u001b[0m\n\u001b[1;32m   1468\u001b[0m             \u001b[0;34m\"Use a.empty, a.bool(), a.item(), a.any() or a.all().\"\u001b[0m\u001b[0;34m\u001b[0m\u001b[0;34m\u001b[0m\u001b[0m\n\u001b[1;32m   1469\u001b[0m         )\n",
      "\u001b[0;31mValueError\u001b[0m: The truth value of a Series is ambiguous. Use a.empty, a.bool(), a.item(), a.any() or a.all()."
     ]
    }
   ],
   "source": [
    "for _ in range(20):\n",
    "    strategy_runner.next_trading_day()"
   ]
  },
  {
   "cell_type": "code",
   "execution_count": null,
   "metadata": {},
   "outputs": [],
   "source": []
  },
  {
   "cell_type": "code",
   "execution_count": null,
   "metadata": {},
   "outputs": [],
   "source": [
    "d_df = get_option_data()"
   ]
  },
  {
   "cell_type": "code",
   "execution_count": null,
   "metadata": {},
   "outputs": [],
   "source": [
    "d_df"
   ]
  },
  {
   "cell_type": "code",
   "execution_count": null,
   "metadata": {},
   "outputs": [],
   "source": [
    "# orig_max_rows = pd.get_option('display.max_rows')\n",
    "# pd.set_option('display.max_rows', 1500)\n",
    "# display(d_df.loc[d_df.QUOTE_DATE == pd.Timestamp('2015-01-02')])\n",
    "# orig_max_rows = pd.get_option('display.max_rows')\n",
    "# pd.set_option('display.max_rows', orig_max_rows)"
   ]
  },
  {
   "cell_type": "code",
   "execution_count": null,
   "metadata": {},
   "outputs": [],
   "source": [
    "poor_wallet = Wallet()"
   ]
  },
  {
   "cell_type": "code",
   "execution_count": null,
   "metadata": {},
   "outputs": [],
   "source": [
    "print(poor_wallet)"
   ]
  },
  {
   "cell_type": "code",
   "execution_count": null,
   "metadata": {},
   "outputs": [],
   "source": [
    "# strategy = Strategy(d_df, poor_wallet, pd.Timestamp(dt.date.fromisoformat('2015-01-02')))"
   ]
  },
  {
   "cell_type": "code",
   "execution_count": null,
   "metadata": {},
   "outputs": [],
   "source": [
    "strategy = Strategy(d_df, poor_wallet, pd.Timestamp('2015-01-02'), long_target_dte = 750)"
   ]
  },
  {
   "cell_type": "code",
   "execution_count": null,
   "metadata": {},
   "outputs": [],
   "source": [
    "print(strategy.wallet)"
   ]
  },
  {
   "cell_type": "code",
   "execution_count": null,
   "metadata": {},
   "outputs": [],
   "source": [
    "print(strategy.wallet.amount)\n",
    "print(strategy.wallet.call_options_buy[0])\n",
    "print(strategy.wallet.call_options_sell[0])\n",
    "print(strategy.wallet.stocks)"
   ]
  },
  {
   "cell_type": "code",
   "execution_count": null,
   "metadata": {},
   "outputs": [],
   "source": [
    "print(strategy.wallet.call_options_sell[0].stock_price_at_purchase)"
   ]
  },
  {
   "cell_type": "code",
   "execution_count": null,
   "metadata": {},
   "outputs": [],
   "source": [
    "strategy.wallet.amount"
   ]
  },
  {
   "cell_type": "code",
   "execution_count": null,
   "metadata": {},
   "outputs": [],
   "source": [
    "print(strategy.wallet.call_options_buy[0].strike_price)"
   ]
  },
  {
   "cell_type": "code",
   "execution_count": null,
   "metadata": {},
   "outputs": [],
   "source": [
    "one_day = d_df.loc[d_df.QUOTE_DATE == pd.Timestamp('2015-01-02')]"
   ]
  },
  {
   "cell_type": "code",
   "execution_count": null,
   "metadata": {},
   "outputs": [],
   "source": [
    "# one_day"
   ]
  },
  {
   "cell_type": "code",
   "execution_count": null,
   "metadata": {},
   "outputs": [],
   "source": [
    "one_day.tail(20)"
   ]
  },
  {
   "cell_type": "code",
   "execution_count": null,
   "metadata": {},
   "outputs": [],
   "source": [
    "# one_day.loc[one_day.DTE <= 700]"
   ]
  },
  {
   "cell_type": "code",
   "execution_count": null,
   "metadata": {},
   "outputs": [],
   "source": [
    "# d_df.loc[d_df.DTE >= 700]"
   ]
  },
  {
   "cell_type": "code",
   "execution_count": null,
   "metadata": {},
   "outputs": [],
   "source": [
    "print(strategy.wallet)"
   ]
  },
  {
   "cell_type": "code",
   "execution_count": null,
   "metadata": {},
   "outputs": [],
   "source": [
    "strategy.daily_roll(d_df, pd.to_datetime('2015-01-04'))"
   ]
  },
  {
   "cell_type": "code",
   "execution_count": null,
   "metadata": {},
   "outputs": [],
   "source": [
    "print(strategy.wallet)"
   ]
  },
  {
   "cell_type": "code",
   "execution_count": null,
   "metadata": {},
   "outputs": [],
   "source": []
  }
 ],
 "metadata": {
  "kernelspec": {
   "display_name": ".venv",
   "language": "python",
   "name": "python3"
  },
  "language_info": {
   "codemirror_mode": {
    "name": "ipython",
    "version": 3
   },
   "file_extension": ".py",
   "mimetype": "text/x-python",
   "name": "python",
   "nbconvert_exporter": "python",
   "pygments_lexer": "ipython3",
   "version": "3.11.3"
  },
  "orig_nbformat": 4
 },
 "nbformat": 4,
 "nbformat_minor": 2
}
